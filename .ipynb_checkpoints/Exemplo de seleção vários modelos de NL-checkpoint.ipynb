{
 "cells": [
  {
   "cell_type": "code",
   "execution_count": 27,
   "id": "5ed6a841",
   "metadata": {},
   "outputs": [],
   "source": [
    "# Imports\n",
    "import pandas as pd\n",
    "import numpy as np\n",
    "import matplotlib\n",
    "import matplotlib.pyplot as plt\n",
    "from sklearn.preprocessing import StandardScaler\n",
    "from sklearn.metrics import ConfusionMatrixDisplay\n",
    "\n",
    "from sklearn.metrics import classification_report\n",
    "from sklearn.model_selection import train_test_split\n",
    "from sklearn.model_selection import KFold\n",
    "from sklearn.model_selection import cross_val_score\n",
    "from sklearn.model_selection import GridSearchCV\n",
    "from sklearn.metrics import confusion_matrix\n",
    "\n",
    "from sklearn.metrics import accuracy_score\n",
    "from sklearn.pipeline import Pipeline\n",
    "from sklearn.linear_model import LogisticRegression\n",
    "from sklearn.tree import DecisionTreeClassifier\n",
    "from sklearn.neighbors import KNeighborsClassifier\n",
    "from sklearn.naive_bayes import GaussianNB\n",
    "from sklearn.svm import SVC\n",
    "\n",
    "# Biblioteca para filtrar warnings e não apresentar na tela\n",
    "import warnings\n",
    "warnings.filterwarnings(\"ignore\")"
   ]
  },
  {
   "cell_type": "code",
   "execution_count": 2,
   "id": "f9baa7b2",
   "metadata": {},
   "outputs": [],
   "source": [
    "# Carrega arquivo csv usando Pandas usando uma URL\n",
    "# Informa a URL de importação do dataset\n",
    "url = \"https://raw.githubusercontent.com/jbrownlee/Datasets/master/pima-indians-diabetes.data.csv\"\n",
    "\n",
    "# Informa o cabeçalho das colunas\n",
    "colunas = ['preg', 'plas', 'pres', 'skin', 'test', 'mass', 'pedi', 'age', 'class']\n",
    "\n",
    "# Lê o arquivo utilizando as colunas informadas\n",
    "dataset = pd.read_csv(url, names=colunas, skiprows=0, delimiter=',')"
   ]
  },
  {
   "cell_type": "code",
   "execution_count": 3,
   "id": "76a7bf0c",
   "metadata": {},
   "outputs": [
    {
     "name": "stdout",
     "output_type": "stream",
     "text": [
      "(768, 9)\n"
     ]
    }
   ],
   "source": [
    "# dimensões do dataset\n",
    "print(dataset.shape)"
   ]
  },
  {
   "cell_type": "code",
   "execution_count": 4,
   "id": "eaef3aa3",
   "metadata": {},
   "outputs": [
    {
     "name": "stdout",
     "output_type": "stream",
     "text": [
      "preg       int64\n",
      "plas       int64\n",
      "pres       int64\n",
      "skin       int64\n",
      "test       int64\n",
      "mass     float64\n",
      "pedi     float64\n",
      "age        int64\n",
      "class      int64\n",
      "dtype: object\n"
     ]
    }
   ],
   "source": [
    "# tipos de cada atributo\n",
    "print(dataset.dtypes)"
   ]
  },
  {
   "cell_type": "code",
   "execution_count": 5,
   "id": "74bfbb0c",
   "metadata": {},
   "outputs": [
    {
     "name": "stdout",
     "output_type": "stream",
     "text": [
      "   preg  plas  pres  skin  test  mass   pedi  age  class\n",
      "0     6   148    72    35     0  33.6  0.627   50      1\n",
      "1     1    85    66    29     0  26.6  0.351   31      0\n",
      "2     8   183    64     0     0  23.3  0.672   32      1\n",
      "3     1    89    66    23    94  28.1  0.167   21      0\n",
      "4     0   137    40    35   168  43.1  2.288   33      1\n"
     ]
    }
   ],
   "source": [
    "# primeiras linhas do dataset\n",
    "print(dataset.head())"
   ]
  },
  {
   "cell_type": "code",
   "execution_count": 6,
   "id": "acf9dc30",
   "metadata": {},
   "outputs": [],
   "source": [
    "# Separação em conjuntos de treino e teste\n",
    "array = dataset.values\n",
    "X = array[:, 0:8].astype(float)\n",
    "Y = array[:, 8]\n",
    "test_size = 0.20\n",
    "seed = 7\n",
    "X_train, X_test, Y_train, Y_test = train_test_split(X, Y, test_size=test_size, random_state=seed)"
   ]
  },
  {
   "cell_type": "code",
   "execution_count": 7,
   "id": "73595316",
   "metadata": {},
   "outputs": [],
   "source": [
    "# Parâmetros\n",
    "num_folds = 10\n",
    "scoring = 'accuracy'"
   ]
  },
  {
   "cell_type": "code",
   "execution_count": 152,
   "id": "68b8c509",
   "metadata": {},
   "outputs": [],
   "source": [
    "# Criação dos modelos\n",
    "models = []\n",
    "models.append(('LR', LogisticRegression()))\n",
    "models.append(('KNN', KNeighborsClassifier()))\n",
    "models.append(('CART', DecisionTreeClassifier()))\n",
    "models.append(('NB', GaussianNB()))\n",
    "models.append(('SVM', SVC()))"
   ]
  },
  {
   "cell_type": "code",
   "execution_count": 153,
   "id": "1a866a02",
   "metadata": {},
   "outputs": [],
   "source": [
    "# Avaliação dos modelos\n",
    "results = []\n",
    "names = []"
   ]
  },
  {
   "cell_type": "code",
   "execution_count": 154,
   "id": "3443be7e",
   "metadata": {},
   "outputs": [
    {
     "name": "stdout",
     "output_type": "stream",
     "text": [
      "LR: 0.780063 (0.057373)\n",
      "KNN: 0.710153 (0.064599)\n",
      "CART: 0.679244 (0.061548)\n",
      "NB: 0.750820 (0.050575)\n",
      "SVM: 0.757271 (0.047915)\n"
     ]
    }
   ],
   "source": [
    "for name, model in models:\n",
    "    kfold = KFold(n_splits=num_folds)\n",
    "    cv_results = cross_val_score(model, X_train, Y_train, cv=kfold, scoring=scoring)\n",
    "    results.append(cv_results)\n",
    "    names.append(name)\n",
    "    msg = \"%s: %f (%f)\" % (name, cv_results.mean(), cv_results.std())\n",
    "    print(msg)"
   ]
  },
  {
   "cell_type": "code",
   "execution_count": 155,
   "id": "3117b27f",
   "metadata": {},
   "outputs": [
    {
     "data": {
      "image/png": "[encoded data removed]",
      "text/plain": [
       "<Figure size 432x288 with 1 Axes>"
      ]
     },
     "metadata": {
      "needs_background": "light"
     },
     "output_type": "display_data"
    }
   ],
   "source": [
    "# Comparação dos modelos\n",
    "fig = plt.figure()\n",
    "fig.suptitle('Comparação dos Modelos')\n",
    "ax = fig.add_subplot(111)\n",
    "plt.boxplot(results)\n",
    "ax.set_xticklabels(names)\n",
    "plt.show()"
   ]
  },
  {
   "cell_type": "code",
   "execution_count": 161,
   "id": "0e3ac020",
   "metadata": {},
   "outputs": [
    {
     "name": "stdout",
     "output_type": "stream",
     "text": [
      "ScaledLR: 0.778424 (0.061895)\n",
      "ScaledKNN: 0.718297 (0.071563)\n",
      "ScaledCART: 0.684082 (0.052059)\n",
      "ScaledNB: 0.750820 (0.050575)\n",
      "ScaledSVM: 0.752565 (0.064295)\n"
     ]
    }
   ],
   "source": [
    "np.random.seed(7) # definindo uma semente global\n",
    "\n",
    "# Padronização do dataset\n",
    "pipelines = []\n",
    "pipelines.append(('ScaledLR', Pipeline([('Scaler', StandardScaler()), ('LR', LogisticRegression(solver='newton-cg'))])))\n",
    "pipelines.append(('ScaledKNN', Pipeline([('Scaler', StandardScaler()),('KNN', KNeighborsClassifier())])))\n",
    "pipelines.append(('ScaledCART', Pipeline([('Scaler', StandardScaler()),('CART', DecisionTreeClassifier())])))\n",
    "pipelines.append(('ScaledNB', Pipeline([('Scaler', StandardScaler()),('NB', GaussianNB())])))\n",
    "pipelines.append(('ScaledSVM', Pipeline([('Scaler', StandardScaler()),('SVM', SVC())])))\n",
    "results = []\n",
    "names = []\n",
    "for name, model in pipelines:\n",
    "    kfold = KFold(n_splits=num_folds)\n",
    "    cv_results = cross_val_score(model, X_train, Y_train, cv=kfold, scoring=scoring)\n",
    "    results.append(cv_results)\n",
    "    names.append(name)\n",
    "    msg = \"%s: %f (%f)\" % (name, cv_results.mean(), cv_results.std())\n",
    "    print(msg)"
   ]
  },
  {
   "cell_type": "code",
   "execution_count": 157,
   "id": "a80e141e",
   "metadata": {},
   "outputs": [
    {
     "name": "stdout",
     "output_type": "stream",
     "text": [
      "Melhor: 0.747329 usando {'metric': 'manhattan', 'n_neighbors': 17}\n",
      "0.702036 (0.075358): {'metric': 'euclidean', 'n_neighbors': 1}\n",
      "0.734611 (0.068286): {'metric': 'euclidean', 'n_neighbors': 3}\n",
      "0.713432 (0.067707): {'metric': 'euclidean', 'n_neighbors': 5}\n",
      "0.731253 (0.069739): {'metric': 'euclidean', 'n_neighbors': 7}\n",
      "0.734506 (0.069032): {'metric': 'euclidean', 'n_neighbors': 9}\n",
      "0.737652 (0.067802): {'metric': 'euclidean', 'n_neighbors': 11}\n",
      "0.734400 (0.074541): {'metric': 'euclidean', 'n_neighbors': 13}\n",
      "0.729376 (0.084487): {'metric': 'euclidean', 'n_neighbors': 15}\n",
      "0.729455 (0.067497): {'metric': 'euclidean', 'n_neighbors': 17}\n",
      "0.726150 (0.072579): {'metric': 'euclidean', 'n_neighbors': 19}\n",
      "0.724484 (0.071632): {'metric': 'euclidean', 'n_neighbors': 21}\n",
      "0.677578 (0.052071): {'metric': 'manhattan', 'n_neighbors': 1}\n",
      "0.693866 (0.060109): {'metric': 'manhattan', 'n_neighbors': 3}\n",
      "0.708408 (0.064635): {'metric': 'manhattan', 'n_neighbors': 5}\n",
      "0.726362 (0.066480): {'metric': 'manhattan', 'n_neighbors': 7}\n",
      "0.716499 (0.074744): {'metric': 'manhattan', 'n_neighbors': 9}\n",
      "0.713273 (0.069346): {'metric': 'manhattan', 'n_neighbors': 11}\n",
      "0.722924 (0.070387): {'metric': 'manhattan', 'n_neighbors': 13}\n",
      "0.732708 (0.068330): {'metric': 'manhattan', 'n_neighbors': 15}\n",
      "0.747329 (0.073953): {'metric': 'manhattan', 'n_neighbors': 17}\n",
      "0.742517 (0.066483): {'metric': 'manhattan', 'n_neighbors': 19}\n",
      "0.737626 (0.067588): {'metric': 'manhattan', 'n_neighbors': 21}\n",
      "0.702036 (0.075358): {'metric': 'minkowski', 'n_neighbors': 1}\n",
      "0.734611 (0.068286): {'metric': 'minkowski', 'n_neighbors': 3}\n",
      "0.713432 (0.067707): {'metric': 'minkowski', 'n_neighbors': 5}\n",
      "0.731253 (0.069739): {'metric': 'minkowski', 'n_neighbors': 7}\n",
      "0.734506 (0.069032): {'metric': 'minkowski', 'n_neighbors': 9}\n",
      "0.737652 (0.067802): {'metric': 'minkowski', 'n_neighbors': 11}\n",
      "0.734400 (0.074541): {'metric': 'minkowski', 'n_neighbors': 13}\n",
      "0.729376 (0.084487): {'metric': 'minkowski', 'n_neighbors': 15}\n",
      "0.729455 (0.067497): {'metric': 'minkowski', 'n_neighbors': 17}\n",
      "0.726150 (0.072579): {'metric': 'minkowski', 'n_neighbors': 19}\n",
      "0.724484 (0.071632): {'metric': 'minkowski', 'n_neighbors': 21}\n"
     ]
    }
   ],
   "source": [
    "np.random.seed(7) # definindo uma semente global\n",
    "\n",
    "# Tuning do KNN\n",
    "scaler = StandardScaler().fit(X_train)\n",
    "rescaledX = scaler.transform(X_train)\n",
    "\n",
    "k = [1, 3, 5, 7, 9, 11, 13, 15, 17, 19, 21]\n",
    "distancias = [\"euclidean\", \"manhattan\", \"minkowski\"]\n",
    "param_grid = dict(n_neighbors=k, metric=distancias)\n",
    "\n",
    "model = KNeighborsClassifier()\n",
    "kfold = KFold(n_splits=num_folds)\n",
    "\n",
    "grid = GridSearchCV(estimator=model, param_grid=param_grid, scoring=scoring, cv=kfold)\n",
    "grid_result = grid.fit(rescaledX, Y_train)\n",
    "print(\"Melhor: %f usando %s\" %(grid_result.best_score_, grid_result.best_params_))\n",
    "\n",
    "means = grid_result.cv_results_['mean_test_score']\n",
    "stds = grid_result.cv_results_['std_test_score']\n",
    "params = grid_result.cv_results_['params']\n",
    "for mean, stdev, param in zip(means, stds, params):\n",
    "    print(\"%f (%f): %r\" % (mean, stdev, param))"
   ]
  },
  {
   "cell_type": "code",
   "execution_count": 158,
   "id": "36c077f7",
   "metadata": {},
   "outputs": [
    {
     "name": "stdout",
     "output_type": "stream",
     "text": [
      "Melhor: 0.780090 com {'C': 0.1, 'kernel': 'linear'}\n",
      "0.780090 (0.055426): {'C': 0.1, 'kernel': 'linear'}\n",
      "0.711608 (0.066320): {'C': 0.1, 'kernel': 'poly'}\n",
      "0.711713 (0.047940): {'C': 0.1, 'kernel': 'rbf'}\n",
      "0.765362 (0.059384): {'C': 0.1, 'kernel': 'sigmoid'}\n",
      "0.778451 (0.061394): {'C': 0.5, 'kernel': 'linear'}\n",
      "0.736118 (0.072612): {'C': 0.5, 'kernel': 'poly'}\n",
      "0.754098 (0.069671): {'C': 0.5, 'kernel': 'rbf'}\n",
      "0.762110 (0.042649): {'C': 0.5, 'kernel': 'sigmoid'}\n",
      "0.778451 (0.061394): {'C': 1.0, 'kernel': 'linear'}\n",
      "0.739476 (0.058420): {'C': 1.0, 'kernel': 'poly'}\n",
      "0.747673 (0.061555): {'C': 1.0, 'kernel': 'rbf'}\n",
      "0.718139 (0.047951): {'C': 1.0, 'kernel': 'sigmoid'}\n",
      "0.778451 (0.061394): {'C': 1.5, 'kernel': 'linear'}\n",
      "0.744342 (0.058636): {'C': 1.5, 'kernel': 'poly'}\n",
      "0.742702 (0.059437): {'C': 1.5, 'kernel': 'rbf'}\n",
      "0.690375 (0.052174): {'C': 1.5, 'kernel': 'sigmoid'}\n",
      "0.776811 (0.060926): {'C': 2.0, 'kernel': 'linear'}\n",
      "0.749180 (0.065297): {'C': 2.0, 'kernel': 'poly'}\n",
      "0.736118 (0.061380): {'C': 2.0, 'kernel': 'rbf'}\n",
      "0.693654 (0.062248): {'C': 2.0, 'kernel': 'sigmoid'}\n"
     ]
    }
   ],
   "source": [
    "np.random.seed(7) # definindo uma semente global\n",
    "\n",
    "# Tuning do SVM\n",
    "\n",
    "c_values = [0.1, 0.5, 1.0, 1.5, 2.0]\n",
    "kernel_values = ['linear', 'poly', 'rbf', 'sigmoid']\n",
    "param_grid = dict(C=c_values, kernel=kernel_values)\n",
    "\n",
    "model = SVC()\n",
    "kfold = KFold(n_splits=num_folds)\n",
    "\n",
    "grid = GridSearchCV(estimator=model, param_grid=param_grid, scoring=scoring, cv=kfold)\n",
    "grid_result = grid.fit(rescaledX, Y_train)\n",
    "print(\"Melhor: %f com %s\" % (grid_result.best_score_,grid_result.best_params_))\n",
    "\n",
    "means = grid_result.cv_results_['mean_test_score']\n",
    "stds = grid_result.cv_results_['std_test_score']\n",
    "params = grid_result.cv_results_['params']\n",
    "for mean, stdev, param in zip(means, stds, params):\n",
    "    print(\"%f (%f): %r\" % (mean, stdev, param))"
   ]
  },
  {
   "cell_type": "code",
   "execution_count": 159,
   "id": "9040bc3b",
   "metadata": {},
   "outputs": [
    {
     "name": "stdout",
     "output_type": "stream",
     "text": [
      "Accuracy score =  0.7922077922077922\n"
     ]
    },
    {
     "data": {
      "image/png": "[encoded data removed]",
      "text/plain": [
       "<Figure size 432x288 with 2 Axes>"
      ]
     },
     "metadata": {
      "needs_background": "light"
     },
     "output_type": "display_data"
    },
    {
     "name": "stdout",
     "output_type": "stream",
     "text": [
      "              precision    recall  f1-score   support\n",
      "\n",
      "Sem diabetes       0.79      0.92      0.85        97\n",
      "Com diabetes       0.80      0.58      0.67        57\n",
      "\n",
      "    accuracy                           0.79       154\n",
      "   macro avg       0.80      0.75      0.76       154\n",
      "weighted avg       0.79      0.79      0.78       154\n",
      "\n"
     ]
    }
   ],
   "source": [
    "np.random.seed(7) # definindo uma semente global\n",
    "\n",
    "# Preparação do modelo\n",
    "model = LogisticRegression(solver='newton-cg')\n",
    "model.fit(X_train, Y_train)\n",
    "\n",
    "# Estimativa da acurácia no conjunto de teste\n",
    "predictions = model.predict(X_test)\n",
    "print(\"Accuracy score = \", accuracy_score(Y_test, predictions))\n",
    "\n",
    "# Matriz de confusão\n",
    "cm = confusion_matrix(Y_test, predictions)\n",
    "labels = [\"Sem diabetes\", \"Com diabetes\"]\n",
    "cmd = ConfusionMatrixDisplay(cm, display_labels=labels)\n",
    "cmd.plot(values_format=\"d\")\n",
    "plt.show()\n",
    "print(classification_report(Y_test, predictions, target_names=labels))\n",
    "\n"
   ]
  },
  {
   "cell_type": "code",
   "execution_count": null,
   "id": "9a32b906",
   "metadata": {},
   "outputs": [],
   "source": []
  }
 ],
 "metadata": {
  "kernelspec": {
   "display_name": "Python 3 (ipykernel)",
   "language": "python",
   "name": "python3"
  },
  "language_info": {
   "codemirror_mode": {
    "name": "ipython",
    "version": 3
   },
   "file_extension": ".py",
   "mimetype": "text/x-python",
   "name": "python",
   "nbconvert_exporter": "python",
   "pygments_lexer": "ipython3",
   "version": "3.9.7"
  }
 },
 "nbformat": 4,
 "nbformat_minor": 5
}
